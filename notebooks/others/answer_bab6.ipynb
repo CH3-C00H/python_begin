{
 "cells": [
  {
   "cell_type": "code",
   "execution_count": 7,
   "metadata": {},
   "outputs": [],
   "source": [
    "def weighted_avg(X,w):\n",
    "    '''input X : X adalah list dengan panjang N'''\n",
    "    '''input w : w adalah list dengan panjang N'''\n",
    "    \n",
    "    '''output w_avg : one float value'''\n",
    "    '''Formula : (x1*w1 + x2*w2 + x3*w3 + ... + xN*wN)/(w1+w2+w3+...+wN)'''\n",
    "    \n",
    "    N = len(X)\n",
    "    \n",
    "    comb = 0\n",
    "    for i in range(N):\n",
    "        comb += X[i]*w[i]\n",
    "    \n",
    "    w_avg = comb/sum(w)\n",
    "    \n",
    "    return w_avg\n",
    "\n",
    "def emp_score(X):\n",
    "    '''input X : X is list'''\n",
    "    '''output eSco : one float value'''\n",
    "    '''Formula : ((first value of X + last value of X)/2)+(3.5+second value of X)+(Avg of Y dimana Y adalah list baru yang dimana semua nilai X di pangkat 0.5)'''\n",
    "    \n",
    "    f_val = X[0]\n",
    "    l_val = X[-1]\n",
    "    s_val = X[1]\n",
    "    \n",
    "    Y = [i**0.5 for i in X]\n",
    "    \n",
    "    eSco = ((f_val+l_val)/2)+(3.5*s_val)+(sum(Y)/len(Y))\n",
    "    \n",
    "    return eSco\n",
    "\n",
    "def combine_value(X):\n",
    "    '''input X : X is dictionaries'''\n",
    "    \n",
    "    c_val = (X['len_A']+X['len_B'])/2\n",
    "    \n",
    "    return c_val"
   ]
  },
  {
   "cell_type": "code",
   "execution_count": 11,
   "metadata": {},
   "outputs": [],
   "source": [
    "# Open_A = open('nilai_siswa.txt') # --> nilai_siswa.txt\n",
    "# read_A = Open_A.readlines() # --> readlines\n",
    "\n",
    "# [list(map(float,i.split(','))) for i in read_A[:5]]"
   ]
  },
  {
   "cell_type": "code",
   "execution_count": 10,
   "metadata": {},
   "outputs": [],
   "source": [
    "Open_A = open('nilai_siswa.txt') # --> nilai_siswa.txt\n",
    "read_A = Open_A.readlines() # --> readlines\n",
    "List_A_float = [list(map(float,i.split(','))) for i in read_A] # --> change data to float\n",
    "\n",
    "Open_B = open('employee_factor.txt') # --> employee_factor.txt\n",
    "read_B = Open_B.readlines() # --> readlines\n",
    "List_B_float = [list(map(float,i.split(','))) for i in read_B] # --> change data to float\n",
    "\n",
    "## weight\n",
    "Open_W = open('nilai_siswa_weight.txt') # --> nilai_siswa_weight.txt\n",
    "read_W = Open_W.readlines() # --> readlines\n",
    "List_W_float = [list(map(float,i.split(','))) for i in read_W] # --> change data to float"
   ]
  },
  {
   "cell_type": "code",
   "execution_count": 12,
   "metadata": {},
   "outputs": [
    {
     "data": {
      "text/plain": [
       "([[4.0, 7.0, 7.0, 4.0, 4.0, 5.0, 5.0, 7.0],\n",
       "  [9.0, 4.0, 7.0, 6.0, 4.0, 4.0, 5.0, 7.0],\n",
       "  [7.0, 7.0, 9.0, 7.0, 8.0, 8.0, 5.0],\n",
       "  [5.0, 5.0, 6.0, 10.0, 5.0, 7.0, 5.0, 5.0, 8.0],\n",
       "  [9.0, 5.0, 7.0, 10.0, 9.0, 9.0, 4.0]],\n",
       " [[1.0, 5.0, 10.0, 13.0, 4.0],\n",
       "  [5.0, 5.0, 9.0, 15.0, 8.0],\n",
       "  [2.0, 4.0, 7.0, 14.0, 1.0],\n",
       "  [5.0, 4.0, 7.0, 14.0, 10.0],\n",
       "  [4.0, 3.0, 7.0, 12.0, 1.0]],\n",
       " [[0.85, 0.81, 0.69, 0.13, 0.26, 0.39, 0.84, 0.59],\n",
       "  [0.19, 0.45, 0.16, 0.58, 0.59, 0.93, 0.12, 0.45],\n",
       "  [0.32, 0.62, 0.68, 0.17, 0.98, 0.31, 0.94],\n",
       "  [0.2, 0.21, 0.91, 0.15, 0.68, 0.43, 0.77, 0.96, 0.51],\n",
       "  [0.89, 0.42, 0.45, 0.36, 0.28, 0.3, 0.68]])"
      ]
     },
     "execution_count": 12,
     "metadata": {},
     "output_type": "execute_result"
    }
   ],
   "source": [
    "List_A_float[:5],List_B_float[:5],List_W_float[:5]"
   ]
  },
  {
   "cell_type": "code",
   "execution_count": 17,
   "metadata": {},
   "outputs": [],
   "source": [
    "# A_w = []\n",
    "# for X1,w1 in zip(List_A_float,List_W_float):\n",
    "#     A_w.append(weighted_avg(X1,w1))\n",
    "    \n",
    "A_w = list(map(lambda x,w : weighted_avg(x,w),List_A_float,List_W_float))\n",
    "    \n",
    "B_s = []\n",
    "for X1 in List_B_float:\n",
    "    B_s.append(emp_score(X1))"
   ]
  },
  {
   "cell_type": "code",
   "execution_count": 18,
   "metadata": {},
   "outputs": [
    {
     "data": {
      "text/plain": [
       "[5.644736842105262,\n",
       " 5.170028818443803,\n",
       " 7.191542288557214,\n",
       " 5.840248962655601,\n",
       " 7.337278106508874]"
      ]
     },
     "execution_count": 18,
     "metadata": {},
     "output_type": "execute_result"
    }
   ],
   "source": [
    "A_w[:5]"
   ]
  },
  {
   "cell_type": "code",
   "execution_count": 20,
   "metadata": {},
   "outputs": [
    {
     "data": {
      "text/plain": [
       "[22.400779382626432,\n",
       " 26.834709285190637,\n",
       " 17.660324452042325,\n",
       " 24.25715086710134,\n",
       " 15.168380746754245]"
      ]
     },
     "execution_count": 20,
     "metadata": {},
     "output_type": "execute_result"
    }
   ],
   "source": [
    "B_s[:5]"
   ]
  },
  {
   "cell_type": "code",
   "execution_count": null,
   "metadata": {},
   "outputs": [],
   "source": []
  },
  {
   "cell_type": "code",
   "execution_count": null,
   "metadata": {},
   "outputs": [],
   "source": []
  },
  {
   "cell_type": "code",
   "execution_count": 21,
   "metadata": {},
   "outputs": [
    {
     "name": "stdout",
     "output_type": "stream",
     "text": [
      "Avg Weighted Average A : 6.978324003382067\n",
      "Avg Scoring Employee B : 17.25909659217465\n",
      "Max Value Weighted Average A : 9.580985915492956\n",
      "Min Value Scoring Employee B : 6.222353480590312\n",
      "Combine Value : 625.0\n"
     ]
    }
   ],
   "source": [
    "## output (2 digits after comma)\n",
    "print('Avg Weighted Average A :',sum(A_w)/len(A_w))\n",
    "print('Avg Scoring Employee B :',sum(B_s)/len(B_s))\n",
    "print('Max Value Weighted Average A :',max(A_w))\n",
    "print('Min Value Scoring Employee B :',min(B_s))\n",
    "print('Combine Value :',combine_value({'len_A':len(A_w),'len_B':len(B_s)}))"
   ]
  },
  {
   "cell_type": "code",
   "execution_count": null,
   "metadata": {},
   "outputs": [],
   "source": []
  }
 ],
 "metadata": {
  "kernelspec": {
   "display_name": "py37_env",
   "language": "python",
   "name": "myenv"
  },
  "language_info": {
   "codemirror_mode": {
    "name": "ipython",
    "version": 3
   },
   "file_extension": ".py",
   "mimetype": "text/x-python",
   "name": "python",
   "nbconvert_exporter": "python",
   "pygments_lexer": "ipython3",
   "version": "3.7.6"
  }
 },
 "nbformat": 4,
 "nbformat_minor": 4
}
