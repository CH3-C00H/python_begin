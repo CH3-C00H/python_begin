{
 "cells": [
  {
   "cell_type": "code",
   "execution_count": 6,
   "metadata": {},
   "outputs": [],
   "source": [
    "def weighted_avg(X,w):\n",
    "    '''input X : X adalah list dengan panjang N'''\n",
    "    '''input w : w adalah list dengan panjang N'''\n",
    "    \n",
    "    '''output w_avg : one float value'''\n",
    "    '''Formula : (x1*w1 + x2*w2 + x3*w3 + ... + xN*wN)/(w1+w2+w3+...+wN)'''\n",
    "    \n",
    "    N = len(X)\n",
    "    \n",
    "    comb = 0\n",
    "    for i in range(N):\n",
    "        comb += X[i]*w[i]\n",
    "    \n",
    "    w_avg = comb/sum(w)\n",
    "    \n",
    "    return w_avg\n",
    "\n",
    "def emp_score(X):\n",
    "    '''input X : X is list'''\n",
    "    '''output eSco : one float value'''\n",
    "    '''Formula : ((first value of X + last value of X)/2)+(3.5+second value of X)+(Avg of Y dimana Y adalah list baru yang dimana semua nilai X di pangkat 0.5)'''\n",
    "    \n",
    "    f_val = X[0]\n",
    "    l_val = X[-1]\n",
    "    s_val = X[1]\n",
    "    \n",
    "    Y = [i**0.5 for i in X]\n",
    "    \n",
    "    eSco = ((f_val+l_val)/2)+(3.5*s_val)+(sum(Y)/len(Y))\n",
    "    \n",
    "    return eSco\n",
    "\n",
    "def combine_value(X):\n",
    "    '''input X : X is dictionaries'''\n",
    "    \n",
    "    c_val = (X['len_A']+X['len_B'])/2\n",
    "    \n",
    "    return c_val\n",
    "\n",
    "def to_int(X):\n",
    "    X = [float(i) for i in X]\n",
    "    return X"
   ]
  },
  {
   "cell_type": "code",
   "execution_count": null,
   "metadata": {},
   "outputs": [],
   "source": []
  },
  {
   "cell_type": "code",
   "execution_count": 7,
   "metadata": {},
   "outputs": [],
   "source": [
    "Open_A = open('nilai_siswa.txt') # --> nilai_siswa.txt\n",
    "read_A = Open_A.readlines() # --> readlines\n",
    "List_A_float = [to_int(i.split(',')) for i in read_A] # --> change data to float\n",
    "\n",
    "Open_B = open('employee_factor.txt') # --> employee_factor.txt\n",
    "read_B = Open_B.readlines() # --> readlines\n",
    "List_B_float = [to_int(i.split(',')) for i in read_B] # --> change data to float\n",
    "\n",
    "## weight\n",
    "Open_W = open('nilai_siswa_weight.txt') # --> nilai_siswa_weight.txt\n",
    "read_W = Open_W.readlines() # --> readlines\n",
    "List_W_float = [to_int(i.split(',')) for i in read_W] # --> change data to float"
   ]
  },
  {
   "cell_type": "code",
   "execution_count": 12,
   "metadata": {},
   "outputs": [],
   "source": [
    "A_w = []\n",
    "for X1,w1 in zip(List_A_float,List_W_float):\n",
    "    A_w.append(weighted_avg(X1,w1))\n",
    "    \n",
    "    \n",
    "B_s = []\n",
    "for X1 in List_B_float:\n",
    "    B_s.append(emp_score(X1))"
   ]
  },
  {
   "cell_type": "code",
   "execution_count": null,
   "metadata": {},
   "outputs": [],
   "source": []
  },
  {
   "cell_type": "code",
   "execution_count": 15,
   "metadata": {},
   "outputs": [
    {
     "name": "stdout",
     "output_type": "stream",
     "text": [
      "Avg Weighted Average A : 6.978324003382067\n",
      "Avg Scoring Employee B : 17.25909659217465\n",
      "Max Value Weighted Average A : 9.580985915492956\n",
      "Min Value Scoring Employee B : 6.222353480590312\n",
      "Combine Value : 625.0\n"
     ]
    }
   ],
   "source": [
    "## output (2 digits after comma)\n",
    "print('Avg Weighted Average A :',sum(A_w)/len(A_w))\n",
    "print('Avg Scoring Employee B :',sum(B_s)/len(B_s))\n",
    "print('Max Value Weighted Average A :',max(A_w))\n",
    "print('Min Value Scoring Employee B :',min(B_s))\n",
    "print('Combine Value :',combine_value({'len_A':len(A_w),'len_B':len(B_s)}))"
   ]
  },
  {
   "cell_type": "code",
   "execution_count": null,
   "metadata": {},
   "outputs": [],
   "source": []
  }
 ],
 "metadata": {
  "kernelspec": {
   "display_name": "py37_env",
   "language": "python",
   "name": "myenv"
  },
  "language_info": {
   "codemirror_mode": {
    "name": "ipython",
    "version": 3
   },
   "file_extension": ".py",
   "mimetype": "text/x-python",
   "name": "python",
   "nbconvert_exporter": "python",
   "pygments_lexer": "ipython3",
   "version": "3.7.6"
  }
 },
 "nbformat": 4,
 "nbformat_minor": 4
}
