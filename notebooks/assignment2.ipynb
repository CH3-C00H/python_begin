{
 "cells": [
  {
   "cell_type": "code",
   "execution_count": 40,
   "metadata": {},
   "outputs": [],
   "source": [
    "## 2.1\n",
    "\n",
    "txt_kartini='''$1. Dengan semua ilmu yang dipelajarinya selama di ELS dan Kepandaiannya dalam berbahasa Belanda, \n",
    "tidaK menyurutKan langKah RA. Kartini untuK mendapatKan pengetahuan walaupun berada di rumah. \n",
    "Beliau mulai melaKuKan Korespondensi Kepada teman-teman dari Belanda, \n",
    "dan salah satu teman yang selalu menduKung Keinginan Kartini adalah Rosa Abendanon. Melalui surat-surat tersebut, \n",
    "beliau sharing dengan teman-teman Belanda. $6. JupytEr KEtika JupytEr Kartini JupytEr mEncapai JupytEr usia JupytEr 24 JupytEr tahun, JupytEr bEliau JupytEr dijodohkan JupytEr dEngan JupytEr sEorang JupytEr bangsawan JupytEr dan JupytEr juga JupytEr bupati JupytEr asal JupytEr \n",
    "REmbang JupytEr yang JupytEr bErnama JupytEr K.R.M. JupytEr Adipati JupytEr Ario JupytEr Singgih JupytEr Djojo JupytEr Adhiningrat. JupytEr Bupati JupytEr REmbang JupytEr yang JupytEr sEbElumnya JupytEr sudah JupytEr mEmiliki JupytEr 3 JupytEr \n",
    "orang JupytEr istri JupytEr ini JupytEr akhirnya JupytEr mEnikah JupytEr dEngan JupytEr Kartini JupytEr pada JupytEr tanggal JupytEr 12 JupytEr NovEmbEr JupytEr 1903. JupytEr SEsuai JupytEr adat JupytEr Jawa, JupytEr gElar JupytEr kEbangsawanan JupytEr \n",
    "“RadEn JupytEr AjEng” JupytEr yang JupytEr sEmula JupytEr disandang JupytEr olEh JupytEr Kartini JupytEr sEmasa JupytEr mudanya JupytEr bErubah JupytEr mEnjadi JupytEr RadEn JupytEr Ayu JupytEr sEtElah JupytEr bEliau JupytEr mEnikah. $5. DaLaM SURaT YaNG DIKIRIMKaN KEPaDa SaHaBaT-SaHaBaTNYa TERSEBUT, TIDaK JaRaNG KaRTINI \n",
    "MENGUTIP KaLIMaT-KaLIMaT YaNG PERNaH DIBaCa aTaU MENYEBUTKaN SEBUaH KaRYa. DaRI SINI BISa DILIHaT BaHWa BELIaU \n",
    "SELaLU MEMBaCa DENGaN PENUH PERHaTIaN DaN TERKaDaNG MEMBUaT BEBERaPa CaTaTaN KECIL. KaRENa KEPIaWaIaN KaRTINI DaLaM MENULIS \n",
    "MENGGUNaKaN BaHaSa BELaNDa, BEBERaPa KaLI HaSIL TULISaN BELIaU DIMUaT DaLaM SEBUaH MaJaLaH BELaNDa \n",
    "LaNGGaNaNNYa YaITU DE HOLLaNDSCHE LELIE. GaGaSaN BaRU MENGENaI PERSaMaaN HaK WaNITa PRIBUMI aTaU EMaNSIPaSI DIaNGGaP \n",
    "SEBaGaI HaL BaRU YaNG MaMPU MENGUBaH PaNDaNGaN MaSYaRaKaT LUaS. $3. Demi memuaskan rasa dahaganYa akan ilmu pengetahuan dan perkembangan zaman, \n",
    "masa pingitan dilaluinYa dengan banYak membaca. Beberapa bahan bacaan Kartini muda adalah De L0c0m0tief \n",
    "Yang merupakan surat kabar dari k0ta Semarang Yang berada di bawah asuhan Pieter Br00sh00f. Selain itu, beliau \n",
    "juga mendapatkan Leestr0mmel, Yaitu sebuah paket majalah dari t0k0 buku Yang dikirimkan kepada langganan \n",
    "mereka. DidalamnYa juga terdapat berbagai majalah tentang ilmu pengetahuan dan juga kebudaYaan Er0pa Yang \n",
    "ditulis dalam bahasa Belanda. $4.^Kartini^juga^menaruh^perhatian^terhadap^masalah^sosial^yang^terjadi^di^sekitarnya.^\n",
    "Menurut^pemikiran^Beliau,^seorang^perempuan^harus^Bisa^mendapatkan^keBeBasan, otonomi dan kesetaraan hukum. \n",
    "Surat-surat yang ditulis untuk teman-temannya seBagian Besar Berisi tentang keluhan mengenai kondisi yang terjadi \n",
    "pada wanita priBumi. Khususnya wanita Jawa yang harus terikat dengan adat keBudayaan Jawa yang menghamBat mereka \n",
    "untuk maju. Seperti adat Jawa yang pada masa itu mewajiBkan setiap gadis yang sudah Berusia 15 tahun harus \n",
    "dipingit. Hal ini memBuat para wanita Jawa tidak BeBas dalam menuntut ilmu. Selain Rosa ABendanon, teman wanita \n",
    "BerkeBangsaan Belanda lainnya yang juga mendukung setiap pemikiran yang diungkapkan oleh Kartini \n",
    "adalah Estelle Zeehandelaar. $8. Berkat Semangat juang Kartini, PYTHON CoDepada tahun 1912 berdirilah Sebuah Sekolah wanita di Semarang Yang dipelopori \n",
    "oleh YaYaSan Kartini. Merupakan Sebuah YaYaSan milik keluarga Van Deventer Yang merupakan tokoh Politik EtiS pada \n",
    "maSa kolonial Belanda. Sekolah terSebut diberi nama “Sekolah Kartini” dengan makSud untuk menghormati jaSa-jaSa \n",
    "Raden Ajeng Kartini. Sekolah ini kemudian meluaS Sampai ke SurabaYa, PYTHON CoDeMalang, PYTHON CoDeYogYakarta, PYTHON CoDeMadiun, PYTHON CoDeCirebon dan daerah \n",
    "lainnYa. Setiap tuliSan Yang ada pada buku Yang beriSi tentang pemikiran \n",
    "Kartini ini banYak menarik minat maSYarakat pada maSa itu, PYTHON CoDeterutama oleh warga Belanda.  $2.#Dari#sahabatnya#Abendan0n#inilah#Kartini#muda#sering#membaca#buku#surat#\n",
    "kabar#dan#juga#majalah#Er0pa#sehingga#mulai#tertarik#dengan#p0la#pikir#wanita#Er0pa#yang#sangat#maju.#Dalam#sejarah#\n",
    "mengatakan,#ayah#beliau#yang#merupakan#bupati#Jepara#memberikan#izin#kepada#Kartini#untuk#menjadi#se0rang#guru,#\n",
    "sesuai#dengan#cita-citanya.#Namun#dengan#catatan,#beliau#dilarang#untuk#melanjutkan#pr0ses#belajarnya#di#Batavia#\n",
    "atau#di#Belanda.#Hingga#pada#akhirnya#kedua#hal#tersebut#tidak#bisa#dicapainya,#walaupun#saat#itu#ada#beasiswa#yang#\n",
    "sudah#menanti#di#negeri#Belanda. $7. python Suami python RA. python Kartini python ternyata python sangat python memahami python keinginan python dari python istrinya. python Bupati python Rembang python ini python mendukung python dan python \n",
    "memberikan python kebebasan python Kartini python untuk python mendirikan python sekolah python wanita python yang python lokasinya python berada python di python sebelah python timur python pintu python gerbang python \n",
    "komplek python perkantoran python kabupaten python Rembang. python Kini python gedung python tersebut python dikenal python sebagai python Gedung python Pramuka. python Dari python pernikahannya python tersebut, python \n",
    "Kartini python dikaruniai python seorang python putra python bernama python Soesalit python Djojoadhiningrat python yang python lahir python pada python tanggal python 13 python September python 1904. python \n",
    "Namun python sayang, python 4 python hari python setelah python melahirkan, python yaitu python pada python tanggal python 17 python September python 1904 python beliau python menghembuskan python nafas python terakhirnya.'''\n",
    "\n",
    "lst_txt=txt_kartini.split('$')\n",
    "lst_txt.sort()\n",
    "\n",
    "lst_txt[2]=lst_txt[2].replace('#',' ').replace('0','o').lower()\n",
    "lst_txt[3]=lst_txt[3].replace('0','o').lower()\n",
    "lst_txt[4]=lst_txt[4].replace('^',' ').lower()\n",
    "lst_txt[5]=lst_txt[5].lower()\n",
    "lst_txt[6]=lst_txt[6].lower().replace('jupyter','').replace('  ',' ')\n",
    "lst_txt[7]=lst_txt[7].lower().replace('python','')\n",
    "lst_txt[8]=lst_txt[8].lower().replace('python','')\n",
    "\n",
    "print(' '.join(lst_txt))"
   ]
  },
  {
   "cell_type": "code",
   "execution_count": null,
   "metadata": {},
   "outputs": [],
   "source": []
  },
  {
   "cell_type": "code",
   "execution_count": null,
   "metadata": {},
   "outputs": [],
   "source": []
  },
  {
   "cell_type": "code",
   "execution_count": 43,
   "metadata": {},
   "outputs": [
    {
     "name": "stdin",
     "output_type": "stream",
     "text": [
      "angka 1-5 digit : 2531\n"
     ]
    }
   ],
   "source": [
    "## input. angka dengan minimum 1 digit dan maksimum 5 digit\n",
    "\n",
    "Angka_input=input('angka 1-5 digit :')\n",
    "\n",
    "## output. dictionaries dengan key dan value sebagai berikut:\n",
    "\n",
    "## 'max_digit' : digit paling besar di dalam angka tersebut\n",
    "## 'min_digit' : digit paling kecil di dalam angka tersebut\n",
    "## 'first_digit' : digit di index 0\n",
    "## 'max_min' : perkalian max_digit dan min_digit\n",
    "## 'max_min2' : max_min pangkat 2\n",
    "## 'max_min3' : max_min2 pangkat 3\n",
    "## 'max_min23': (max_min2 + max_min3)/(min_digit + first_digit)\n",
    "## 'avg_max_min': (max_digit + min_digit)/2\n",
    "## 'max_min4' : ((max_min23*2) + (max_min23) + 3)/3\n",
    "## 'max_min5' : ((max_min4**3) - (max_min4**2) + (avg_max_min)) ** (1/first_digit)\n",
    "## 'max_min6' : ((max_min5 + max_min4)/2) + first_digit\n",
    "## 'max_min7' : (max_min6//avg_max_min)+max_min5\n",
    "## 'max_min8' : (((max_min7) + (max_min6)) / max_min6) ** first_digit\n",
    "## 'max_min9' : (max_min8 - max_min6 + max_min5) / first_digit\n",
    "\n",
    "\n",
    "dres = {}\n",
    "Angka_ls = list(Angka_input)\n",
    "dres['max_digit'] = int(max(Angka_ls))\n",
    "dres['min_digit'] = int(min(Angka_ls))\n",
    "dres['first_digit'] = int(Angka_ls[0])\n",
    "dres['max_min'] = dres['max_digit']*dres['min_digit']\n",
    "dres['max_min2'] = dres['max_min']**2\n",
    "dres['max_min3'] = dres['max_min2']**3\n",
    "dres['max_min23'] = (dres['max_min2'] + dres['max_min3'])/(dres['min_digit'] + dres['first_digit'])\n",
    "dres['avg_max_min'] = (dres['max_digit'] + dres['min_digit'])/2\n",
    "dres['max_min4'] = ((dres['max_min23']*2) + (dres['max_min23']) + 3)/3\n",
    "dres['max_min5'] = ((dres['max_min4']**3) - (dres['max_min4']**2) + (dres['avg_max_min'])) ** (1/dres['first_digit'])\n",
    "dres['max_min6'] = ((dres['max_min5'] + dres['max_min4'])/2) + dres['first_digit']\n",
    "dres['max_min7'] = (dres['max_min6']//dres['avg_max_min'])+dres['max_min5']\n",
    "dres['max_min8'] = (((dres['max_min7']) + (dres['max_min6'])) / dres['max_min6']) ** dres['first_digit']\n",
    "dres['max_min9'] = (dres['max_min8'] - dres['max_min6'] + dres['max_min5']) / dres['first_digit']"
   ]
  },
  {
   "cell_type": "code",
   "execution_count": 44,
   "metadata": {},
   "outputs": [
    {
     "data": {
      "text/plain": [
       "{'max_digit': 5,\n",
       " 'min_digit': 1,\n",
       " 'first_digit': 2,\n",
       " 'max_min': 5,\n",
       " 'max_min2': 25,\n",
       " 'max_min3': 15625,\n",
       " 'max_min23': 5216.666666666667,\n",
       " 'avg_max_min': 3.0,\n",
       " 'max_min4': 5217.666666666667,\n",
       " 'max_min5': 376853.7785466027,\n",
       " 'max_min6': 191037.7226066347,\n",
       " 'max_min7': 440532.7785466027,\n",
       " 'max_min8': 10.929628739164173,\n",
       " 'max_min9': 92913.49278435358}"
      ]
     },
     "execution_count": 44,
     "metadata": {},
     "output_type": "execute_result"
    }
   ],
   "source": [
    "dres"
   ]
  },
  {
   "cell_type": "code",
   "execution_count": null,
   "metadata": {},
   "outputs": [],
   "source": []
  }
 ],
 "metadata": {
  "kernelspec": {
   "display_name": "py37_env",
   "language": "python",
   "name": "myenv"
  },
  "language_info": {
   "codemirror_mode": {
    "name": "ipython",
    "version": 3
   },
   "file_extension": ".py",
   "mimetype": "text/x-python",
   "name": "python",
   "nbconvert_exporter": "python",
   "pygments_lexer": "ipython3",
   "version": "3.7.6"
  }
 },
 "nbformat": 4,
 "nbformat_minor": 4
}
