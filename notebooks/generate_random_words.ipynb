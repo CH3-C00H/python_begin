{
 "cells": [
  {
   "cell_type": "raw",
   "metadata": {},
   "source": [
    "A"
   ]
  },
  {
   "cell_type": "code",
   "execution_count": 5,
   "metadata": {},
   "outputs": [],
   "source": [
    "from random_word import RandomWords\n",
    "import random\n",
    "import time\n",
    "r = RandomWords()"
   ]
  },
  {
   "cell_type": "code",
   "execution_count": 9,
   "metadata": {},
   "outputs": [],
   "source": [
    "def rand_text():\n",
    "    L1=[]\n",
    "    k=0\n",
    "    while k<3:\n",
    "        print(k)\n",
    "        r = RandomWords()\n",
    "        try:\n",
    "            L1=L1+r.get_random_words()\n",
    "            k+=1\n",
    "        except:\n",
    "            time.sleep(10)\n",
    "            pass\n",
    "        \n",
    "    L=[]\n",
    "    LL=len(L1)\n",
    "    print('panjang ,',LL)\n",
    "    for i in range(120):\n",
    "        a=random.randint(1,LL)\n",
    "        b=random.randint(1,LL)\n",
    "        L=L+L1[a:b]\n",
    "        \n",
    "    a=random.randint(1,LL)\n",
    "    b=random.randint(1,LL)\n",
    "    Le=L1[a:b]\n",
    "    \n",
    "    L=[i for i in L if i not in Le]\n",
    "\n",
    "    random.shuffle(L)\n",
    "    return L"
   ]
  },
  {
   "cell_type": "code",
   "execution_count": null,
   "metadata": {},
   "outputs": [],
   "source": []
  },
  {
   "cell_type": "code",
   "execution_count": 10,
   "metadata": {},
   "outputs": [
    {
     "name": "stdout",
     "output_type": "stream",
     "text": [
      "0\n",
      "0\n",
      "0\n",
      "0\n",
      "0\n",
      "1\n",
      "1\n",
      "1\n",
      "1\n",
      "1\n",
      "1\n",
      "2\n",
      "panjang , 150\n"
     ]
    }
   ],
   "source": [
    "A=rand_text()\n",
    "txt_A=','.join(A)\n",
    "\n",
    "file1 = open(\"A.txt\",\"w\")\n",
    "file1.writelines(txt_A) \n",
    "file1.close()"
   ]
  },
  {
   "cell_type": "code",
   "execution_count": 11,
   "metadata": {},
   "outputs": [
    {
     "name": "stdout",
     "output_type": "stream",
     "text": [
      "0\n",
      "1\n",
      "1\n",
      "1\n",
      "1\n",
      "1\n",
      "2\n",
      "panjang , 150\n"
     ]
    }
   ],
   "source": [
    "B=rand_text()\n",
    "txt_B=','.join(B)\n",
    "\n",
    "file1 = open(\"B.txt\",\"w\")\n",
    "file1.writelines(txt_B) \n",
    "file1.close()"
   ]
  },
  {
   "cell_type": "code",
   "execution_count": 12,
   "metadata": {},
   "outputs": [
    {
     "name": "stdout",
     "output_type": "stream",
     "text": [
      "0\n",
      "1\n",
      "1\n",
      "1\n",
      "1\n",
      "2\n",
      "2\n",
      "2\n",
      "2\n",
      "2\n",
      "2\n",
      "panjang , 150\n"
     ]
    }
   ],
   "source": [
    "C=rand_text()\n",
    "txt_C=','.join(C)\n",
    "\n",
    "file1 = open(\"C.txt\",\"w\")\n",
    "file1.writelines(txt_C) \n",
    "file1.close()"
   ]
  },
  {
   "cell_type": "code",
   "execution_count": null,
   "metadata": {},
   "outputs": [],
   "source": []
  }
 ],
 "metadata": {
  "kernelspec": {
   "display_name": "py37_env",
   "language": "python",
   "name": "myenv"
  },
  "language_info": {
   "codemirror_mode": {
    "name": "ipython",
    "version": 3
   },
   "file_extension": ".py",
   "mimetype": "text/x-python",
   "name": "python",
   "nbconvert_exporter": "python",
   "pygments_lexer": "ipython3",
   "version": "3.7.6"
  }
 },
 "nbformat": 4,
 "nbformat_minor": 4
}
