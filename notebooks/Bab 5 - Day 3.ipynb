{
 "cells": [
  {
   "cell_type": "markdown",
   "metadata": {},
   "source": [
    "# Control Flow Statements"
   ]
  },
  {
   "cell_type": "markdown",
   "metadata": {},
   "source": [
    "## If"
   ]
  },
  {
   "cell_type": "markdown",
   "metadata": {},
   "source": [
    "if some_condition:\n",
    "    \n",
    "    algorithm"
   ]
  },
  {
   "cell_type": "code",
   "execution_count": 2,
   "metadata": {
    "collapsed": false,
    "jupyter": {
     "outputs_hidden": false
    }
   },
   "outputs": [
    {
     "name": "stdout",
     "output_type": "stream",
     "text": [
      "Hello\n"
     ]
    }
   ],
   "source": [
    "x = 3\n",
    "if x <= 10:\n",
    "    print(\"Hello\")"
   ]
  },
  {
   "cell_type": "markdown",
   "metadata": {},
   "source": [
    "## If-else"
   ]
  },
  {
   "cell_type": "markdown",
   "metadata": {},
   "source": [
    "if some_condition:\n",
    "    \n",
    "    algorithm\n",
    "    \n",
    "else:\n",
    "    \n",
    "    algorithm"
   ]
  },
  {
   "cell_type": "code",
   "execution_count": 3,
   "metadata": {
    "collapsed": false,
    "jupyter": {
     "outputs_hidden": false
    }
   },
   "outputs": [
    {
     "name": "stdout",
     "output_type": "stream",
     "text": [
      "hola\n"
     ]
    }
   ],
   "source": [
    "x = 15\n",
    "if x <= 10:\n",
    "    print(\"halo\")\n",
    "else:\n",
    "    print(\"hola\")"
   ]
  },
  {
   "cell_type": "markdown",
   "metadata": {},
   "source": [
    "## if-elif"
   ]
  },
  {
   "cell_type": "markdown",
   "metadata": {},
   "source": [
    "if some_condition:\n",
    "    \n",
    "    algorithm\n",
    "\n",
    "elif some_condition:\n",
    "    \n",
    "    algorithm\n",
    "\n",
    "else:\n",
    "    \n",
    "    algorithm"
   ]
  },
  {
   "cell_type": "code",
   "execution_count": 4,
   "metadata": {
    "collapsed": false,
    "jupyter": {
     "outputs_hidden": false
    }
   },
   "outputs": [
    {
     "name": "stdout",
     "output_type": "stream",
     "text": [
      "x>y\n"
     ]
    }
   ],
   "source": [
    "x = 90\n",
    "y = 43\n",
    "if x > y:\n",
    "    print(\"x>y\")\n",
    "elif x < y:\n",
    "    print(\"x<y\")\n",
    "else:\n",
    "    print(\"x=y\")"
   ]
  },
  {
   "cell_type": "markdown",
   "metadata": {},
   "source": [
    "if dalam if"
   ]
  },
  {
   "cell_type": "code",
   "execution_count": 4,
   "metadata": {
    "collapsed": false,
    "jupyter": {
     "outputs_hidden": false
    }
   },
   "outputs": [
    {
     "name": "stdout",
     "output_type": "stream",
     "text": [
      "x<y\n",
      "x=10\n"
     ]
    }
   ],
   "source": [
    "x = 10\n",
    "y = 12\n",
    "if x > y:\n",
    "    print \"x>y\"\n",
    "elif x < y:\n",
    "    print \"x<y\"\n",
    "    if x==10:\n",
    "        print \"x=10\"\n",
    "    else:\n",
    "        print \"invalid\"\n",
    "else:\n",
    "    print \"x=y\""
   ]
  },
  {
   "cell_type": "code",
   "execution_count": null,
   "metadata": {},
   "outputs": [],
   "source": []
  },
  {
   "cell_type": "code",
   "execution_count": null,
   "metadata": {},
   "outputs": [],
   "source": []
  },
  {
   "cell_type": "markdown",
   "metadata": {},
   "source": [
    "## Quiz 5 \n",
    "- 10 menit"
   ]
  },
  {
   "cell_type": "markdown",
   "metadata": {},
   "source": [
    "Cek Input dan Error (script commit)"
   ]
  },
  {
   "cell_type": "code",
   "execution_count": null,
   "metadata": {},
   "outputs": [],
   "source": []
  },
  {
   "cell_type": "code",
   "execution_count": null,
   "metadata": {},
   "outputs": [],
   "source": []
  },
  {
   "cell_type": "code",
   "execution_count": null,
   "metadata": {},
   "outputs": [],
   "source": []
  },
  {
   "cell_type": "markdown",
   "metadata": {},
   "source": [
    "## Loops"
   ]
  },
  {
   "cell_type": "markdown",
   "metadata": {},
   "source": [
    "### For"
   ]
  },
  {
   "cell_type": "markdown",
   "metadata": {},
   "source": [
    "for variable in something:\n",
    "    \n",
    "    algorithm"
   ]
  },
  {
   "cell_type": "code",
   "execution_count": 5,
   "metadata": {
    "collapsed": false,
    "jupyter": {
     "outputs_hidden": false
    }
   },
   "outputs": [
    {
     "name": "stdout",
     "output_type": "stream",
     "text": [
      "0\n",
      "1\n",
      "2\n",
      "3\n",
      "4\n"
     ]
    }
   ],
   "source": [
    "for i in range(5):\n",
    "    print i"
   ]
  },
  {
   "cell_type": "markdown",
   "metadata": {},
   "source": [
    "loop dengan list"
   ]
  },
  {
   "cell_type": "code",
   "execution_count": 6,
   "metadata": {
    "collapsed": false,
    "jupyter": {
     "outputs_hidden": false
    }
   },
   "outputs": [
    {
     "name": "stdout",
     "output_type": "stream",
     "text": [
      "[1, 2, 3]\n",
      "[4, 5, 6]\n",
      "[7, 8, 9]\n"
     ]
    }
   ],
   "source": [
    "list_of_lists = [[1, 2, 3], [4, 5, 6], [7, 8, 9]]\n",
    "for list1 in list_of_lists:\n",
    "        print list1"
   ]
  },
  {
   "cell_type": "markdown",
   "metadata": {},
   "source": [
    "loop dalam loop"
   ]
  },
  {
   "cell_type": "code",
   "execution_count": 7,
   "metadata": {
    "collapsed": false,
    "jupyter": {
     "outputs_hidden": false
    }
   },
   "outputs": [
    {
     "name": "stdout",
     "output_type": "stream",
     "text": [
      "1\n",
      "2\n",
      "3\n",
      "4\n",
      "5\n",
      "6\n",
      "7\n",
      "8\n",
      "9\n"
     ]
    }
   ],
   "source": [
    "list_of_lists = [[1, 2, 3], [4, 5, 6], [7, 8, 9]]\n",
    "for list1 in list_of_lists:\n",
    "    for x in list1:\n",
    "        print x"
   ]
  },
  {
   "cell_type": "markdown",
   "metadata": {},
   "source": [
    "### While\n",
    "\n",
    "loop sampai waktu tertentu"
   ]
  },
  {
   "cell_type": "markdown",
   "metadata": {},
   "source": [
    "while some_condition:\n",
    "    \n",
    "    algorithm"
   ]
  },
  {
   "cell_type": "code",
   "execution_count": 8,
   "metadata": {
    "collapsed": false,
    "jupyter": {
     "outputs_hidden": false
    }
   },
   "outputs": [
    {
     "name": "stdout",
     "output_type": "stream",
     "text": [
      "1\n",
      "4\n",
      "Bye\n"
     ]
    }
   ],
   "source": [
    "i = 1\n",
    "while i < 3:\n",
    "    print(i ** 2)\n",
    "    i = i+1\n",
    "print('Bye')"
   ]
  },
  {
   "cell_type": "markdown",
   "metadata": {},
   "source": [
    "## Break"
   ]
  },
  {
   "cell_type": "markdown",
   "metadata": {},
   "source": [
    "memberhentikan loop ditengah2"
   ]
  },
  {
   "cell_type": "code",
   "execution_count": 9,
   "metadata": {
    "collapsed": false,
    "jupyter": {
     "outputs_hidden": false
    }
   },
   "outputs": [
    {
     "name": "stdout",
     "output_type": "stream",
     "text": [
      "0\n",
      "1\n",
      "2\n",
      "3\n",
      "4\n",
      "5\n",
      "6\n",
      "7\n"
     ]
    }
   ],
   "source": [
    "for i in range(100):\n",
    "    print i\n",
    "    if i>=7:\n",
    "        break"
   ]
  },
  {
   "cell_type": "markdown",
   "metadata": {},
   "source": [
    "## Continue"
   ]
  },
  {
   "cell_type": "markdown",
   "metadata": {},
   "source": [
    "melanjutkan loop"
   ]
  },
  {
   "cell_type": "code",
   "execution_count": 3,
   "metadata": {
    "collapsed": false,
    "jupyter": {
     "outputs_hidden": false
    }
   },
   "outputs": [
    {
     "name": "stdout",
     "output_type": "stream",
     "text": [
      "0\n",
      "1\n",
      "2\n",
      "3\n",
      "4\n",
      "The end.\n",
      "The end.\n",
      "The end.\n",
      "The end.\n",
      "The end.\n"
     ]
    }
   ],
   "source": [
    "for i in range(10):\n",
    "    if i>4:\n",
    "        print(\"The end.\")\n",
    "        continue\n",
    "    elif i<7:\n",
    "        print(i)"
   ]
  },
  {
   "cell_type": "markdown",
   "metadata": {},
   "source": [
    "## List Comprehensions"
   ]
  },
  {
   "cell_type": "markdown",
   "metadata": {},
   "source": [
    "Misalkan ..."
   ]
  },
  {
   "cell_type": "code",
   "execution_count": 5,
   "metadata": {
    "collapsed": false,
    "jupyter": {
     "outputs_hidden": false
    }
   },
   "outputs": [
    {
     "name": "stdout",
     "output_type": "stream",
     "text": [
      "[22, 44, 66, 88, 110, 132, 154, 176, 198, 220, 242, 264, 286, 308, 330, 352, 374, 396, 418]\n"
     ]
    }
   ],
   "source": [
    "res = []\n",
    "for i in range(1,20):\n",
    "    x = 22*i\n",
    "    res.append(x)\n",
    "print(res)"
   ]
  },
  {
   "cell_type": "markdown",
   "metadata": {},
   "source": [
    "didalam list bisa dilakukan loop seperti berikut"
   ]
  },
  {
   "cell_type": "code",
   "execution_count": 7,
   "metadata": {
    "collapsed": false,
    "jupyter": {
     "outputs_hidden": false
    }
   },
   "outputs": [
    {
     "data": {
      "text/plain": [
       "[22,\n",
       " 44,\n",
       " 66,\n",
       " 88,\n",
       " 110,\n",
       " 132,\n",
       " 154,\n",
       " 176,\n",
       " 198,\n",
       " 220,\n",
       " 242,\n",
       " 264,\n",
       " 286,\n",
       " 308,\n",
       " 330,\n",
       " 352,\n",
       " 374,\n",
       " 396,\n",
       " 418]"
      ]
     },
     "execution_count": 7,
     "metadata": {},
     "output_type": "execute_result"
    }
   ],
   "source": [
    "[22*x for x in range(1,20)]"
   ]
  },
  {
   "cell_type": "markdown",
   "metadata": {},
   "source": [
    "That's it!. Only remember to enclose it in square brackets"
   ]
  },
  {
   "cell_type": "markdown",
   "metadata": {},
   "source": [
    "Bisa digabung dengan if juga"
   ]
  },
  {
   "cell_type": "code",
   "execution_count": 13,
   "metadata": {
    "collapsed": false,
    "jupyter": {
     "outputs_hidden": false
    }
   },
   "outputs": [
    {
     "data": {
      "text/plain": [
       "[27, 54, 81, 108, 135, 162, 189, 216, 243, 270]"
      ]
     },
     "execution_count": 13,
     "metadata": {},
     "output_type": "execute_result"
    }
   ],
   "source": [
    "[27*x for x in range(1,20) if x<=10]"
   ]
  },
  {
   "cell_type": "markdown",
   "metadata": {},
   "source": [
    "Let me add one more loop to make you understand better, "
   ]
  },
  {
   "cell_type": "code",
   "execution_count": 14,
   "metadata": {
    "collapsed": false,
    "jupyter": {
     "outputs_hidden": false
    }
   },
   "outputs": [
    {
     "data": {
      "text/plain": [
       "[27, 54, 81, 108, 135, 162, 189, 216, 243, 270]"
      ]
     },
     "execution_count": 14,
     "metadata": {},
     "output_type": "execute_result"
    }
   ],
   "source": [
    "[27*z for i in range(50) if i==27 for z in range(1,11)]"
   ]
  },
  {
   "cell_type": "code",
   "execution_count": null,
   "metadata": {},
   "outputs": [],
   "source": []
  },
  {
   "cell_type": "code",
   "execution_count": null,
   "metadata": {},
   "outputs": [],
   "source": []
  },
  {
   "cell_type": "markdown",
   "metadata": {},
   "source": [
    "## Quiz 6.1"
   ]
  },
  {
   "cell_type": "markdown",
   "metadata": {},
   "source": [
    "1. List Ganjil tanpa \"If\" (5 menit) --> input N, output [1,3,5, ... , N]\n",
    "2. generate list sepanjang N dengan pattern [1,1+(1/2),1+(1/3),1+(1/4), ...] (5 menit) tapi tidak boleh lebih kecil dari 1.5*(1+(1/N))..\n",
    "3. Pattern (15 menit) --> input N\n",
    "\n",
    "\n",
    "    1\n",
    "    \n",
    "    1 2\n",
    "    \n",
    "    1 2 3\n",
    "    \n",
    "    1 2 3 4\n",
    "    \n",
    "    .\n",
    "    .\n",
    "    .\n",
    "    \n",
    "    1 2 3 . . . N\n",
    "    \n",
    "    dst\n"
   ]
  },
  {
   "cell_type": "code",
   "execution_count": null,
   "metadata": {},
   "outputs": [],
   "source": []
  },
  {
   "cell_type": "code",
   "execution_count": null,
   "metadata": {},
   "outputs": [],
   "source": []
  },
  {
   "cell_type": "markdown",
   "metadata": {},
   "source": [
    "## Quiz 6.2"
   ]
  },
  {
   "cell_type": "markdown",
   "metadata": {},
   "source": [
    "\n",
    "1. Ambil semua angka x,y dan simpan dalam list (tapi banyaknya x tidak boleh lebih dari y) (15 menit)\n",
    "2. while case : kapan naik kapan turun (time series) dihari ke berapa stock sudah turun X kali (input X) - real case example (20 menit)"
   ]
  },
  {
   "cell_type": "code",
   "execution_count": null,
   "metadata": {},
   "outputs": [],
   "source": []
  },
  {
   "cell_type": "code",
   "execution_count": null,
   "metadata": {},
   "outputs": [],
   "source": []
  },
  {
   "cell_type": "markdown",
   "metadata": {},
   "source": [
    "## Assignment 3"
   ]
  },
  {
   "cell_type": "markdown",
   "metadata": {},
   "source": [
    "rata2-nya.. di ujian keberapa pertama kali dapet score kurang dari 8 (tapi bukan 0).. ??"
   ]
  },
  {
   "cell_type": "code",
   "execution_count": 28,
   "metadata": {},
   "outputs": [],
   "source": [
    "B=[]\n",
    "for i in range(5):\n",
    "    kk = random.randint(1,12)\n",
    "    s1 = [random.choice([0,8,9,10]) for i in range(kk)]\n",
    "    s2 = [random.randint(3,9) for i in range(12-kk)]\n",
    "    B.append(s1+s2)"
   ]
  },
  {
   "cell_type": "code",
   "execution_count": 29,
   "metadata": {},
   "outputs": [
    {
     "data": {
      "text/plain": [
       "[[10, 10, 8, 0, 0, 9, 9, 10, 0, 9, 7, 4],\n",
       " [9, 9, 10, 0, 9, 9, 4, 3, 5, 3, 8, 8],\n",
       " [8, 10, 10, 4, 9, 9, 7, 7, 7, 6, 7, 8],\n",
       " [8, 0, 9, 10, 0, 10, 9, 0, 0, 0, 10, 3],\n",
       " [8, 9, 9, 10, 0, 10, 10, 9, 10, 10, 10, 8]]"
      ]
     },
     "execution_count": 29,
     "metadata": {},
     "output_type": "execute_result"
    }
   ],
   "source": [
    "B"
   ]
  },
  {
   "cell_type": "code",
   "execution_count": 23,
   "metadata": {},
   "outputs": [],
   "source": [
    "A = [[8, 9, 9, 8, 9, 5, 4, 6, 4, 4, 3, 7],\n",
    " [8, 10, 8, 0, 9, 0, 0, 8, 6, 3, 4, 6],\n",
    " [0, 9, 10, 8, 10, 7, 3, 5, 4, 3, 3, 6],\n",
    " [9, 9, 8, 0, 0, 6, 4, 4, 4, 7, 9, 3],\n",
    " [8, 10, 9, 0, 9, 9, 9, 0, 3, 8, 9, 6],\n",
    " [10, 10, 0, 8, 0, 8, 3, 6, 3, 6, 5, 4],\n",
    " [9, 8, 8, 0, 0, 7, 9, 6, 6, 8, 3, 4],\n",
    " [0, 8, 0, 0, 9, 9, 6, 6, 8, 3, 5, 6],\n",
    " [0, 9, 10, 8, 10, 8, 6, 7, 6, 8, 3, 4],\n",
    " [10, 10, 8, 0, 10, 9, 9, 6, 8, 3, 4, 6],\n",
    " [9, 8, 0, 9, 0, 9, 9, 8, 7, 5, 7, 5],\n",
    " [8, 8, 9, 8, 0, 0, 0, 9, 9, 4, 7, 9],\n",
    " [0, 10, 10, 8, 0, 0, 7, 5, 7, 5, 7, 6],\n",
    " [8, 10, 0, 9, 0, 6, 8, 4, 5, 7, 5, 3],\n",
    " [9, 9, 10, 8, 9, 4, 8, 9, 6, 3, 4, 5],\n",
    " [10, 10, 10, 8, 10, 9, 9, 9, 6, 5, 6, 9],\n",
    " [9, 10, 10, 9, 9, 10, 7, 3, 4, 7, 6, 9],\n",
    " [10, 9, 9, 0, 0, 9, 4, 4, 4, 5, 8, 6],\n",
    " [0, 8, 9, 0, 0, 9, 3, 3, 5, 3, 9, 8],\n",
    " [0, 8, 0, 8, 10, 9, 9, 5, 9, 5, 7, 8],\n",
    " [10, 0, 0, 0, 0, 9, 8, 3, 8, 7, 4, 9],\n",
    " [10, 10, 10, 10, 9, 10, 8, 4, 6, 9, 8, 5],\n",
    " [8, 9, 10, 9, 8, 10, 9, 3, 3, 8, 4, 3],\n",
    " [0, 10, 10, 0, 0, 6, 8, 3, 7, 5, 9, 3],\n",
    " [10, 0, 10, 9, 9, 4, 9, 6, 3, 8, 5, 3],\n",
    " [0, 0, 0, 9, 10, 0, 6, 9, 7, 5, 4, 7],\n",
    " [8, 0, 0, 0, 9, 0, 8, 9, 9, 4, 4, 5],\n",
    " [10, 10, 9, 0, 0, 9, 8, 9, 3, 6, 7, 4],\n",
    " [0, 0, 10, 10, 0, 10, 3, 4, 3, 9, 8, 3],\n",
    " [8, 9, 8, 10, 8, 3, 7, 5, 6, 8, 4, 8],\n",
    " [0, 0, 8, 8, 0, 7, 6, 8, 7, 4, 8, 7],\n",
    " [8, 9, 10, 8, 10, 0, 0, 8, 8, 5, 6, 3],\n",
    " [10, 8, 9, 10, 9, 8, 9, 5, 8, 8, 7, 8],\n",
    " [9, 0, 10, 0, 0, 10, 0, 10, 3, 9, 9, 4],\n",
    " [10, 9, 9, 0, 9, 9, 9, 0, 5, 5, 7, 8],\n",
    " [10, 0, 0, 9, 9, 9, 8, 0, 6, 7, 3, 3],\n",
    " [9, 8, 8, 9, 0, 0, 5, 3, 9, 5, 4, 7],\n",
    " [9, 10, 10, 10, 8, 0, 6, 5, 4, 7, 5, 7],\n",
    " [8, 10, 8, 10, 10, 8, 8, 9, 7, 5, 5, 5],\n",
    " [10, 9, 8, 0, 9, 9, 4, 3, 6, 9, 3, 3],\n",
    " [10, 8, 8, 0, 0, 9, 3, 5, 9, 4, 9, 6],\n",
    " [0, 0, 8, 0, 9, 0, 10, 8, 7, 8, 4, 6],\n",
    " [8, 0, 9, 0, 0, 8, 8, 8, 4, 9, 8, 5],\n",
    " [8, 0, 9, 8, 10, 6, 9, 9, 6, 4, 9, 3],\n",
    " [0, 10, 0, 8, 10, 8, 4, 8, 3, 5, 9, 7],\n",
    " [10, 8, 10, 10, 10, 10, 6, 7, 7, 6, 9, 9],\n",
    " [9, 8, 0, 8, 8, 10, 8, 9, 7, 8, 5, 8],\n",
    " [9, 10, 10, 9, 8, 10, 10, 8, 7, 8, 6, 6],\n",
    " [10, 10, 10, 9, 8, 9, 8, 9, 6, 7, 5, 4],\n",
    " [10, 0, 10, 0, 10, 9, 7, 9, 5, 9, 3, 4],\n",
    " [0, 0, 9, 8, 9, 8, 10, 0, 7, 4, 6, 9],\n",
    " [10, 9, 10, 10, 9, 8, 7, 7, 9, 8, 6, 3],\n",
    " [0, 10, 9, 0, 9, 8, 5, 4, 9, 6, 8, 3],\n",
    " [8, 10, 0, 10, 8, 9, 5, 5, 3, 8, 8, 9],\n",
    " [0, 8, 9, 0, 0, 7, 8, 4, 8, 9, 8, 6],\n",
    " [10, 9, 0, 8, 10, 8, 0, 8, 3, 4, 4, 7],\n",
    " [0, 0, 0, 10, 10, 3, 3, 3, 6, 6, 5, 6],\n",
    " [0, 9, 8, 8, 8, 10, 10, 9, 5, 9, 8, 6],\n",
    " [10, 10, 10, 9, 10, 8, 7, 7, 7, 3, 8, 4],\n",
    " [8, 0, 0, 0, 10, 0, 0, 8, 5, 3, 6, 7],\n",
    " [9, 8, 8, 9, 8, 5, 9, 6, 3, 8, 3, 7],\n",
    " [8, 10, 9, 9, 10, 9, 9, 6, 7, 8, 6, 8],\n",
    " [10, 9, 10, 0, 0, 0, 9, 3, 9, 5, 8, 7],\n",
    " [9, 8, 10, 9, 0, 9, 8, 9, 8, 3, 3, 5],\n",
    " [0, 10, 10, 9, 9, 10, 5, 3, 7, 7, 3, 7],\n",
    " [8, 9, 9, 8, 9, 0, 10, 9, 7, 7, 4, 3],\n",
    " [0, 10, 8, 8, 0, 9, 6, 7, 3, 8, 6, 3],\n",
    " [9, 8, 8, 0, 9, 10, 0, 0, 5, 7, 3, 5],\n",
    " [10, 10, 10, 0, 10, 3, 4, 3, 4, 3, 6, 6],\n",
    " [0, 10, 9, 10, 8, 9, 8, 10, 8, 4, 7, 7],\n",
    " [8, 0, 9, 8, 8, 9, 10, 0, 9, 8, 6, 7],\n",
    " [10, 10, 0, 8, 8, 8, 3, 4, 6, 7, 6, 4],\n",
    " [0, 10, 0, 8, 10, 10, 9, 8, 3, 4, 6, 4],\n",
    " [10, 0, 8, 0, 0, 7, 3, 5, 9, 9, 9, 7],\n",
    " [10, 9, 9, 8, 8, 10, 8, 10, 3, 7, 5, 7],\n",
    " [10, 8, 10, 8, 10, 9, 10, 8, 3, 5, 8, 6],\n",
    " [0, 9, 10, 0, 9, 3, 7, 9, 6, 7, 9, 7],\n",
    " [8, 0, 0, 8, 0, 3, 5, 5, 9, 3, 3, 8],\n",
    " [8, 9, 10, 8, 9, 3, 9, 7, 3, 6, 8, 8],\n",
    " [0, 0, 9, 9, 0, 0, 9, 3, 5, 8, 4, 5],\n",
    " [0, 8, 9, 0, 10, 3, 7, 8, 3, 5, 4, 5],\n",
    " [0, 10, 0, 10, 9, 10, 3, 9, 6, 7, 8, 7],\n",
    " [9, 10, 8, 8, 0, 9, 0, 0, 3, 9, 4, 4],\n",
    " [8, 9, 8, 9, 8, 10, 9, 3, 3, 3, 5, 5],\n",
    " [0, 8, 9, 10, 8, 10, 0, 8, 9, 7, 8, 5],\n",
    " [9, 0, 9, 9, 0, 8, 3, 4, 3, 8, 6, 9],\n",
    " [10, 9, 10, 9, 9, 9, 8, 0, 9, 3, 5, 8],\n",
    " [9, 8, 10, 10, 0, 8, 5, 6, 6, 6, 3, 8],\n",
    " [10, 9, 10, 10, 9, 9, 8, 9, 4, 4, 6, 7],\n",
    " [0, 0, 9, 0, 9, 8, 5, 5, 7, 8, 5, 3],\n",
    " [8, 9, 10, 0, 9, 9, 8, 7, 7, 8, 4, 9],\n",
    " [9, 9, 10, 8, 9, 8, 7, 5, 3, 7, 9, 6],\n",
    " [0, 10, 0, 10, 0, 10, 9, 10, 4, 3, 8, 4],\n",
    " [8, 8, 8, 9, 8, 9, 6, 5, 8, 6, 5, 5],\n",
    " [9, 9, 0, 10, 9, 9, 4, 4, 3, 7, 5, 4],\n",
    " [8, 0, 0, 10, 9, 7, 5, 8, 9, 6, 5, 3],\n",
    " [9, 8, 9, 10, 8, 10, 10, 10, 5, 9, 4, 5],\n",
    " [9, 8, 9, 9, 0, 7, 9, 5, 3, 7, 8, 4],\n",
    " [0, 10, 0, 0, 0, 9, 8, 3, 4, 3, 5, 3],\n",
    " [8, 10, 0, 10, 10, 10, 8, 9, 3, 5, 3, 4],\n",
    " [9, 0, 9, 10, 8, 4, 7, 8, 3, 6, 9, 4],\n",
    " [8, 10, 10, 0, 8, 9, 9, 9, 6, 3, 3, 4],\n",
    " [8, 8, 10, 8, 10, 0, 3, 8, 6, 4, 8, 4],\n",
    " [8, 10, 9, 8, 9, 9, 6, 5, 4, 5, 4, 6],\n",
    " [9, 0, 8, 9, 0, 9, 9, 0, 6, 9, 5, 3],\n",
    " [10, 8, 0, 8, 10, 0, 8, 0, 4, 9, 3, 7],\n",
    " [8, 9, 0, 9, 0, 6, 3, 4, 7, 6, 3, 3],\n",
    " [0, 0, 9, 9, 10, 0, 9, 8, 9, 6, 6, 3],\n",
    " [10, 8, 8, 8, 9, 0, 8, 3, 6, 9, 4, 3],\n",
    " [0, 8, 10, 9, 10, 8, 9, 0, 4, 9, 3, 5],\n",
    " [8, 8, 0, 0, 10, 10, 8, 9, 5, 9, 7, 4],\n",
    " [0, 10, 10, 9, 9, 8, 7, 3, 8, 5, 9, 9],\n",
    " [8, 10, 9, 8, 8, 0, 3, 9, 3, 8, 8, 5],\n",
    " [9, 9, 8, 9, 10, 0, 3, 3, 6, 6, 8, 7],\n",
    " [10, 8, 0, 0, 8, 5, 9, 7, 3, 3, 5, 3],\n",
    " [0, 0, 8, 0, 8, 9, 10, 10, 9, 7, 5, 8],\n",
    " [9, 10, 9, 10, 8, 9, 5, 6, 4, 9, 5, 7],\n",
    " [10, 8, 0, 10, 10, 10, 0, 0, 8, 9, 9, 8],\n",
    " [0, 8, 10, 0, 9, 4, 4, 4, 9, 3, 6, 6],\n",
    " [9, 9, 9, 9, 8, 8, 9, 10, 4, 4, 4, 4],\n",
    " [0, 8, 0, 8, 8, 9, 8, 4, 6, 5, 9, 8],\n",
    " [8, 9, 9, 8, 0, 5, 4, 4, 7, 9, 4, 3],\n",
    " [10, 0, 9, 8, 8, 10, 10, 8, 4, 7, 6, 7],\n",
    " [8, 9, 0, 9, 0, 4, 8, 5, 6, 5, 8, 9],\n",
    " [8, 10, 8, 0, 9, 10, 0, 10, 7, 6, 4, 9],\n",
    " [9, 8, 8, 10, 9, 5, 9, 5, 8, 9, 4, 9],\n",
    " [0, 8, 9, 10, 9, 7, 3, 6, 5, 9, 7, 4],\n",
    " [0, 8, 9, 9, 8, 9, 9, 8, 5, 9, 8, 3],\n",
    " [0, 0, 10, 9, 10, 10, 10, 0, 3, 7, 7, 3],\n",
    " [8, 0, 8, 10, 10, 9, 7, 7, 7, 3, 7, 8],\n",
    " [8, 8, 10, 10, 9, 10, 8, 6, 6, 5, 6, 6],\n",
    " [0, 0, 8, 8, 0, 9, 8, 8, 6, 7, 4, 6],\n",
    " [9, 0, 0, 10, 8, 9, 10, 10, 3, 6, 7, 5],\n",
    " [9, 8, 9, 0, 0, 9, 8, 5, 4, 4, 8, 4],\n",
    " [9, 10, 0, 0, 8, 10, 8, 5, 6, 6, 6, 9],\n",
    " [9, 10, 0, 10, 0, 9, 9, 9, 3, 9, 6, 6],\n",
    " [9, 9, 10, 0, 9, 8, 9, 8, 4, 4, 9, 6],\n",
    " [10, 10, 10, 0, 8, 0, 6, 7, 9, 7, 6, 4],\n",
    " [9, 8, 9, 10, 0, 10, 8, 5, 5, 7, 7, 9],\n",
    " [10, 8, 10, 0, 9, 6, 7, 5, 3, 9, 8, 9],\n",
    " [9, 9, 8, 10, 10, 0, 10, 9, 5, 7, 4, 3],\n",
    " [0, 0, 10, 10, 0, 9, 0, 10, 4, 9, 6, 5],\n",
    " [9, 0, 8, 0, 0, 9, 4, 9, 6, 9, 7, 8],\n",
    " [9, 9, 8, 8, 8, 5, 7, 8, 4, 7, 7, 6],\n",
    " [8, 10, 9, 9, 10, 0, 4, 3, 8, 9, 4, 7],\n",
    " [0, 8, 0, 9, 10, 9, 0, 10, 7, 5, 4, 8],\n",
    " [0, 8, 0, 9, 0, 8, 9, 7, 6, 4, 3, 3],\n",
    " [9, 10, 9, 10, 8, 0, 7, 5, 5, 4, 7, 4],\n",
    " [10, 10, 8, 0, 10, 8, 9, 5, 8, 7, 6, 5],\n",
    " [8, 9, 0, 0, 10, 10, 0, 0, 9, 7, 8, 8]]"
   ]
  },
  {
   "cell_type": "code",
   "execution_count": null,
   "metadata": {},
   "outputs": [],
   "source": []
  }
 ],
 "metadata": {
  "kernelspec": {
   "display_name": "py37_env",
   "language": "python",
   "name": "myenv"
  },
  "language_info": {
   "codemirror_mode": {
    "name": "ipython",
    "version": 3
   },
   "file_extension": ".py",
   "mimetype": "text/x-python",
   "name": "python",
   "nbconvert_exporter": "python",
   "pygments_lexer": "ipython3",
   "version": "3.7.6"
  }
 },
 "nbformat": 4,
 "nbformat_minor": 4
}
