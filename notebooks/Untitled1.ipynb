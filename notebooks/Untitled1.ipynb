{
 "cells": [
  {
   "cell_type": "code",
   "execution_count": 17,
   "metadata": {},
   "outputs": [
    {
     "name": "stdout",
     "output_type": "stream",
     "text": [
      "A1 = [1, 2, 4, 5, 6, 8, 9, 10, 11, 12, 15]\n",
      "B1 = [16, 17, 18, 20, 21, 23, 24, 25, 26, 28, 29, 30]\n"
     ]
    }
   ],
   "source": [
    "#######################\n",
    "##       Codes       ##\n",
    "#######################\n",
    "\n",
    "# your_email=...\n",
    "# print(\"-----\"+str(your_email)+\"-------\")\n",
    "\n",
    "## \n",
    "A=[16, 17,  9, 20, 20, 12,  5, 12, 16, 10, 17, 15,  1, 16,  4,  6,  6,\n",
    "        4,  0,  2, 12, 15,  6,  4, 16, 12, 16, 20,  1, 16, 16, 20,  2,  6,\n",
    "        2, 10, 16, 17,  6,  4,  6,  6,  8, 10,  5,  1,  2, 15,  2,  8,  8]\n",
    "B=[20, 36, 29, 24, 24, 30, 31, 37, 30, 31, 32, 34, 39, 34, 20, 28, 20,\n",
    "       23, 36, 40, 20, 29, 37, 29, 35, 33, 40, 23, 23, 37, 20, 33, 30, 24,\n",
    "       32, 23, 32, 40, 30]\n",
    "C=[12, 10, 15, 26, 24, 18, 23, 18, 23, 28, 11, 18, 18, 23, 28, 10, 12,\n",
    "       10, 18, 11, 25, 18, 24, 23, 11, 12, 18, 25, 28, 17, 20, 28, 15, 20,\n",
    "       24, 18, 29, 23, 21, 29, 25, 26, 26, 16, 23, 23, 25, 11, 23]\n",
    "\n",
    "# 1. merge semua list\n",
    "All_numbers=A+B+C # list\n",
    "\n",
    "# 2. bikin unik dari merge\n",
    "All_numbers_unik=set(All_numbers) # set\n",
    "All_numbers_unik=set(A)|set(B)|set(C) # Union\n",
    "\n",
    "# 3. pakai index jika semua angka ada,. jika tidak,. ?\n",
    "list1=set(list(range(1,16))) # set\n",
    "list2=set(list(range(16,31))) # set\n",
    "\n",
    "A1=list(list1&All_numbers_unik)\n",
    "B1=list(list2&All_numbers_unik)\n",
    "\n",
    "## Ubah list A, B, C diatas menjadi seperti :\n",
    "# A1=list semua angka unik >0 tapi <=15 dari A, B dan C\n",
    "# B1=list semua angka unik >15 tapi <=30 dari A, B dan C\n",
    "\n",
    "print('A1 =', A1)\n",
    "print('B1 =', B1)\n",
    "\n",
    "# Clue : Set bisa jadi List, atau sebaliknya\n"
   ]
  },
  {
   "cell_type": "code",
   "execution_count": null,
   "metadata": {},
   "outputs": [],
   "source": []
  }
 ],
 "metadata": {
  "kernelspec": {
   "display_name": "onoenv",
   "language": "python",
   "name": "onoenv"
  },
  "language_info": {
   "codemirror_mode": {
    "name": "ipython",
    "version": 3
   },
   "file_extension": ".py",
   "mimetype": "text/x-python",
   "name": "python",
   "nbconvert_exporter": "python",
   "pygments_lexer": "ipython3",
   "version": "3.7.7"
  }
 },
 "nbformat": 4,
 "nbformat_minor": 4
}
