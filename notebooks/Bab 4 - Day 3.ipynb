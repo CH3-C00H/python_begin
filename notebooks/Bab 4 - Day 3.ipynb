{
 "cells": [
  {
   "cell_type": "markdown",
   "metadata": {},
   "source": [
    "# A. Package"
   ]
  },
  {
   "cell_type": "markdown",
   "metadata": {},
   "source": [
    "## Calling Package"
   ]
  },
  {
   "cell_type": "code",
   "execution_count": 1,
   "metadata": {},
   "outputs": [],
   "source": [
    "# import <Package Name>\n",
    "# from <Package Name> import <Specific Function>\n",
    "\n",
    "import numpy as np\n",
    "import math\n",
    "from sklearn.preprocessing import StandardScaler"
   ]
  },
  {
   "cell_type": "code",
   "execution_count": null,
   "metadata": {},
   "outputs": [],
   "source": []
  },
  {
   "cell_type": "markdown",
   "metadata": {},
   "source": [
    "## Installing Package"
   ]
  },
  {
   "cell_type": "code",
   "execution_count": 2,
   "metadata": {},
   "outputs": [],
   "source": [
    "# pip install <Package Name>"
   ]
  },
  {
   "cell_type": "code",
   "execution_count": null,
   "metadata": {},
   "outputs": [],
   "source": []
  },
  {
   "cell_type": "markdown",
   "metadata": {},
   "source": [
    "# B. Read - Write Txt Files\n",
    "\n",
    "How to Read and Write in files (txt)"
   ]
  },
  {
   "cell_type": "markdown",
   "metadata": {},
   "source": [
    "## Path Intro"
   ]
  },
  {
   "cell_type": "code",
   "execution_count": 1,
   "metadata": {},
   "outputs": [],
   "source": [
    "import os"
   ]
  },
  {
   "cell_type": "code",
   "execution_count": 3,
   "metadata": {},
   "outputs": [
    {
     "data": {
      "text/plain": [
       "['.ipynb_checkpoints',\n",
       " 'Bab 1 - Day 1.ipynb',\n",
       " 'Bab 2 - Day 2.ipynb',\n",
       " 'Bab 3 - Day 2.ipynb',\n",
       " 'Bab 4 - Day 3.ipynb',\n",
       " 'Bab 5 - Day 3.ipynb',\n",
       " 'Bab 6 - Day 4.ipynb',\n",
       " 'Bab 7 - Day 4.ipynb',\n",
       " 'Untitled.ipynb']"
      ]
     },
     "execution_count": 3,
     "metadata": {},
     "output_type": "execute_result"
    }
   ],
   "source": [
    "os.listdir()"
   ]
  },
  {
   "cell_type": "code",
   "execution_count": 4,
   "metadata": {},
   "outputs": [
    {
     "data": {
      "text/plain": [
       "['.git',\n",
       " '.gitignore',\n",
       " '.ipynb_checkpoints',\n",
       " 'files',\n",
       " 'images',\n",
       " 'notebooks',\n",
       " 'README.md',\n",
       " 'references.txt',\n",
       " 'src']"
      ]
     },
     "execution_count": 4,
     "metadata": {},
     "output_type": "execute_result"
    }
   ],
   "source": [
    "os.listdir('../')"
   ]
  },
  {
   "cell_type": "code",
   "execution_count": 5,
   "metadata": {},
   "outputs": [
    {
     "data": {
      "text/plain": [
       "['myfile.txt']"
      ]
     },
     "execution_count": 5,
     "metadata": {},
     "output_type": "execute_result"
    }
   ],
   "source": [
    "os.listdir('../files')"
   ]
  },
  {
   "cell_type": "code",
   "execution_count": 7,
   "metadata": {},
   "outputs": [],
   "source": [
    "PATH_DIR = '../files/'"
   ]
  },
  {
   "cell_type": "code",
   "execution_count": null,
   "metadata": {},
   "outputs": [],
   "source": []
  },
  {
   "cell_type": "markdown",
   "metadata": {},
   "source": [
    "## Read .txt"
   ]
  },
  {
   "cell_type": "code",
   "execution_count": 8,
   "metadata": {},
   "outputs": [],
   "source": [
    "FILE_DIR = PATH_DIR + 'example1.txt'"
   ]
  },
  {
   "cell_type": "raw",
   "metadata": {},
   "source": [
    "1. Read Only (‘r’) : Open file untuk dibaca. Akan error kalo filenya tidak ada.\n",
    "\n",
    "2. Read and Write (‘r+’) : Open file untuk dibaca dan ditulis (klo ditulis akan mengganti semua isi yang ada). Akan error kalo filenya tidak ada.\n",
    "\n",
    "3. Write Only (‘w’) : Open file untuk ditulis (klo ditulis akan mengganti semua isi yang ada). Akan buat baru kalo filenya tidak ada.\n",
    "\n",
    "4. Write and Read (‘w+’) : Open file untuk dibaca dan ditulis (klo ditulis akan mengganti semua isi yang ada). Akan buat baru kalo filenya tidak ada.\n",
    "\n",
    "5. Append Only (‘a’) : Open file untuk ditulis (klo ditulis akan menambah isi). Akan buat baru kalo filenya tidak ada.\n",
    "\n",
    "6. Append and Read (‘a+’) : Open file untuk dibaca dan ditulis (klo ditulis akan menambah isi). Akan buat baru kalo filenya tidak ada."
   ]
  },
  {
   "cell_type": "code",
   "execution_count": 24,
   "metadata": {},
   "outputs": [],
   "source": [
    "file1 = open(FILE_DIR,\"r\") "
   ]
  },
  {
   "cell_type": "code",
   "execution_count": 25,
   "metadata": {},
   "outputs": [
    {
     "data": {
      "text/plain": [
       "['10, 90, 93, 69, 47, 5, 87, 54, 85, 47, 3, 2, 74, 28, 85, 56, 44, 25, 71, 13, 97, 53, 4, 35, 42, 61, 19, 16, 27, 51, 83, 79, 55, 67, 49, 51, 74, 43, 0, 49, 11, 40, 85, 19, 92, 93, 89, 2, 34, 62, 97, 28, 49, 21, 37, 31, 6, 9, 13, 18, 100, 66, 31, 8, 97, 29, 87, 93, 11, 18, 68, 44, 78, 32, 80, 1, 54, 16, 94, 4, 80, 84, 98, 70, 95, 29, 78, 67, 35, 1, 25, 14, 77, 64, 53, 65, 9, 59, 57, 13, 3, 76, 36, 12, 97, 98, 94, 79, 9, 92, 70, 91, 41, 48, 15, 17, 31, 6, 21, 13, 13, 92, 41, 89, 76, 68, 67, 89, 92, 96, 83, 24, 40, 53, 84, 15, 75, 93, 36, 99, 77, 60, 58, 3, 57, 5, 79, 52, 88, 66, 90, 66, 66, 59, 69, 40, 20, 37, 5, 55, 93, 97, 54, 77, 37, 70, 1, 14, 74, 93, 57, 39, 28, 22, 56, 55, 60, 92, 42, 65, 96, 27, 57, 36, 57, 1, 70, 27, 36, 97, 11, 98, 42, 39, 40, 56, 22, 15, 90, 27, 61, 18, 62, 48, 96, 23, 71, 51, 94, 95, 87, 14, 63, 15, 6, 12, 83, 38, 44, 62, 70, 29, 12, 32, 76, 89, 25, 58, 2, 1, 70, 21, 10, 57, 17, 18, 14, 35, 20, 91, 93, 12, 20, 12, 30, 69, 5, 2, 42, 45, 17, 79, 9, 8, 40, 60, 27, 64, 13, 17, 13, 18, 96, 48, 24, 91, 79, 9, 61, 50, 2, 81, 99, 75, 4, 98, 39, 7, 96, 11, 99, 40, 38, 95, 31, 54, 29, 6, 89, 17, 20, 59, 65, 49, 86, 32, 41, 20, 14, 13, 58, 36, 30, 75, 47, 5, 50, 36, 30, 84, 47, 53, 27, 72, 2, 80, 45, 65, 65, 25, 12, 9, 9, 4, 41, 25, 31, 67, 35, 16, 99, 99, 35, 67, 18, 61, 36, 17, 39, 86, 10, 99, 83, 97, 57, 57, 55, 68, 98, 57, 94, 98, 31, 80, 83, 17, 33, 18, 50, 97, 53, 76, 85, 93, 26, 23, 30, 50, 88, 39, 18, 58, 77, 33, 42, 48, 33, 58, 50, 10, 53, 53, 23, 12, 30, 33, 37, 64, 17, 13, 16, 52, 39, 94, 32, 80, 100, 51, 97, 87, 13, 99, 97, 7, 68, 34, 70, 43, 70, 60, 72, 52, 85, 26, 67, 11, 42, 7, 55, 95, 6, 0, 71, 9, 53, 0, 21, 29, 4, 90, 64, 9, 8, 24, 64, 89, 83, 93, 13, 34, 65, 11, 82, 49, 9, 52, 23, 30, 33, 25, 61, 1, 45, 65, 29, 64, 13, 28, 87, 69, 83, 80, 46, 30, 7, 56, 4, 1, 94, 69, 10, 86, 100, 21, 90, 11, 74, 90, 24, 82, 85, 7, 14, 45, 67, 40, 100, 51, 72, 53, 63, 73, 84, 89, 33, 91, 56, 39, 54, 38, 70, 45, 21, 46, 25, 74, 60, 88, 38, 100, 37, 94, 6, 8, 61, 48, 63, 8, 39, 87, 93, 11, 5, 75, 40, 7, 2, 52, 52, 12, 41, 21, 100, 67, 46, 91, 55, 13, 44, 32, 93, 8, 57, 44, 17, 78, 21, 10, 62, 43, 62, 62, 93, 91, 81, 2, 5, 30, 13, 30, 40, 59, 23, 4, 11, 26, 0, 92, 58, 82, 50, 68, 9, 82, 63, 46, 86, 55, 93, 97, 62, 100, 88, 48, 10, 89, 51, 14, 75, 75, 75, 90, 8, 62, 8, 45, 90, 50, 30, 22, 94, 85, 23, 88, 85, 84, 26, 92, 0, 31, 84, 1, 94, 8, 15, 71, 42, 10, 27, 46, 20, 58, 10, 53, 35, 17, 64, 61, 50, 59, 16, 46, 12, 91, 65, 11, 68, 4, 98, 31, 59, 34, 65, 13, 30, 37, 61, 21, 32, 86, 90, 87, 87, 40, 18, 43, 45, 41, 90, 31, 63, 9, 3, 73, 42, 35, 28, 6, 79, 26, 71, 53, 34, 23, 21, 64, 48, 70, 17, 58, 37, 25, 82, 95, 18, 28, 43, 99, 15, 62, 34, 20, 56, 26, 19, 29, 58, 66, 6, 35, 35, 70, 85, 76, 60, 64, 13, 35, 54, 34, 100, 100, 42, 58, 9, 34, 94, 59, 33, 35, 94, 97, 44, 47, 71, 6, 6, 48, 71, 22, 47, 20, 30, 57, 66, 100, 37, 25, 20, 93, 51, 74, 2, 82, 89, 48, 46, 47, 11, 84, 31, 43, 37, 5, 78, 53, 9, 65, 83, 73, 22, 28, 80, 41, 94, 87, 10, 95, 83, 63, 20, 46, 64, 71, 43, 48, 2, 33, 34, 86, 99, 57, 75, 29, 77, 18, 70, 45, 38, 29, 25, 79, 4, 54, 21, 7, 32, 10, 75, 72, 61, 20, 30, 30, 54, 43, 21, 17, 45, 9, 12, 57, 55, 81, 93, 15, 77, 58, 83, 32, 38, 8, 52, 88, 1, 0, 57, 40, 73, 38, 41, 58, 3, 25, 74, 28, 80, 46, 21, 12, 36, 56, 37, 26, 25, 7, 99, 29, 72, 7, 15, 100, 10, 30, 61, 60, 13, 63, 56, 34, 60, 36, 4, 85, 97, 21, 38, 11, 29, 9, 35, 26, 19, 56, 28, 0, 1, 15, 31, 24, 75, 5, 17, 68, 80, 85, 38, 20, 58, 40, 70, 90, 77, 60, 20, 16, 77, 45, 38, 63, 58, 31, 67, 22, 80, 90, 47, 13, 20, 24, 17, 31, 23, 71, 22, 36, 57, 25, 31, 61, 39, 22, 1, 6, 21, 31, 93, 78, 19, 22, 23, 0, 60, 78, 10, 9, 79, 70, 7, 17, 83, 63, 23, 0, 80, 11, 52, 52, 52, 66, 16, 28, 12, 100, 92, 68, 79, 91, 49, 19, 41, 58, 66, 58, 21, 79, 24, 45, 36, 92, 24, 3, 25, 94, 73, 51, 13, 56, 6, 65, 60, 43, 39, 29, 28, 65, 83, 19, 22, 95, 82, 90, 6, 88, 97, 64, 28, 39, 24, 23']"
      ]
     },
     "execution_count": 25,
     "metadata": {},
     "output_type": "execute_result"
    }
   ],
   "source": [
    "# baca setiap baris dimana setiap barisnya dijadikan element dalam list\n",
    "file1.readlines()"
   ]
  },
  {
   "cell_type": "code",
   "execution_count": null,
   "metadata": {},
   "outputs": [],
   "source": []
  },
  {
   "cell_type": "code",
   "execution_count": null,
   "metadata": {},
   "outputs": [],
   "source": []
  },
  {
   "cell_type": "markdown",
   "metadata": {},
   "source": [
    "## Write .txt"
   ]
  },
  {
   "cell_type": "code",
   "execution_count": 26,
   "metadata": {},
   "outputs": [],
   "source": [
    "file1 = open(PATH_DIR+\"myfile2.txt\",\"w\") \n",
    "# \\n = Akhir dari 1 baris\n",
    "file1.write(\"Halo semuanya \\n\") \n",
    "\n",
    "L='saya baru belajar'\n",
    "file1.writelines(L) \n",
    "file1.close()"
   ]
  },
  {
   "cell_type": "code",
   "execution_count": null,
   "metadata": {},
   "outputs": [],
   "source": []
  },
  {
   "cell_type": "markdown",
   "metadata": {},
   "source": [
    "## Quiz 4 \n",
    "\n",
    "(10 menit)\n",
    "\n",
    "based on File A, B and C"
   ]
  },
  {
   "cell_type": "markdown",
   "metadata": {},
   "source": [
    "- - - - - - -"
   ]
  },
  {
   "cell_type": "code",
   "execution_count": null,
   "metadata": {},
   "outputs": [],
   "source": []
  }
 ],
 "metadata": {
  "kernelspec": {
   "display_name": "py37_env",
   "language": "python",
   "name": "myenv"
  },
  "language_info": {
   "codemirror_mode": {
    "name": "ipython",
    "version": 3
   },
   "file_extension": ".py",
   "mimetype": "text/x-python",
   "name": "python",
   "nbconvert_exporter": "python",
   "pygments_lexer": "ipython3",
   "version": "3.7.6"
  }
 },
 "nbformat": 4,
 "nbformat_minor": 4
}
